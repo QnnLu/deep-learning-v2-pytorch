{
  "nbformat": 4,
  "nbformat_minor": 0,
  "metadata": {
    "colab": {
      "name": "Copy of Character_Level_RNN_Exercise.ipynb",
      "version": "0.3.2",
      "provenance": [],
      "include_colab_link": true
    },
    "kernelspec": {
      "name": "python3",
      "display_name": "Python 3"
    },
    "accelerator": "GPU"
  },
  "cells": [
    {
      "cell_type": "markdown",
      "metadata": {
        "id": "view-in-github",
        "colab_type": "text"
      },
      "source": [
        "<a href=\"https://colab.research.google.com/github/QnnLu/deep-learning-v2-pytorch/blob/student/Copy_of_Character_Level_RNN_Exercise.ipynb\" target=\"_parent\"><img src=\"https://colab.research.google.com/assets/colab-badge.svg\" alt=\"Open In Colab\"/></a>"
      ]
    },
    {
      "metadata": {
        "id": "lXdFV6z6lFvQ",
        "colab_type": "code",
        "colab": {
          "base_uri": "https://localhost:8080/",
          "height": 55
        },
        "outputId": "f732644f-7f58-404e-8939-1a9c2e5b3725"
      },
      "cell_type": "code",
      "source": [
        "# http://pytorch.org/\n",
        "from os import path\n",
        "from wheel.pep425tags import get_abbr_impl, get_impl_ver, get_abi_tag\n",
        "platform = '{}{}-{}'.format(get_abbr_impl(), get_impl_ver(), get_abi_tag())\n",
        "\n",
        "accelerator = 'cu80' if path.exists('/opt/bin/nvidia-smi') else 'cpu'\n",
        "\n",
        "!pip install -q http://download.pytorch.org/whl/{accelerator}/torch-0.4.0-{platform}-linux_x86_64.whl torchvision"
      ],
      "execution_count": 3,
      "outputs": [
        {
          "output_type": "stream",
          "text": [
            "tcmalloc: large alloc 1073750016 bytes == 0x5c506000 @  0x7f6a760c82a4 0x591a07 0x5b5d56 0x502e9a 0x506859 0x502209 0x502f3d 0x506859 0x504c28 0x502540 0x502f3d 0x506859 0x504c28 0x502540 0x502f3d 0x506859 0x504c28 0x502540 0x502f3d 0x507641 0x502209 0x502f3d 0x506859 0x504c28 0x502540 0x502f3d 0x507641 0x504c28 0x502540 0x502f3d 0x507641\n"
          ],
          "name": "stdout"
        }
      ]
    },
    {
      "metadata": {
        "id": "zEzDdEjXlEIN",
        "colab_type": "text"
      },
      "cell_type": "markdown",
      "source": [
        "# Character-Level LSTM in PyTorch\n",
        "\n",
        "In this notebook, I'll construct a character-level LSTM with PyTorch. The network will train character by character on some text, then generate new text character by character. As an example, I will train on Anna Karenina. **This model will be able to generate new text based on the text from the book!**\n",
        "\n",
        "This network is based off of Andrej Karpathy's [post on RNNs](http://karpathy.github.io/2015/05/21/rnn-effectiveness/) and [implementation in Torch](https://github.com/karpathy/char-rnn). Below is the general architecture of the character-wise RNN.\n",
        "\n",
        "<img src=\"https://github.com/QnnLu/deep-learning-v2-pytorch/blob/master/recurrent-neural-networks/char-rnn/assets/charseq.jpeg?raw=1\" width=\"500\">"
      ]
    },
    {
      "metadata": {
        "id": "nk8UGLCKlEIQ",
        "colab_type": "text"
      },
      "cell_type": "markdown",
      "source": [
        "First let's load in our required resources for data loading and model creation."
      ]
    },
    {
      "metadata": {
        "id": "RltlXjvSlEIS",
        "colab_type": "code",
        "colab": {}
      },
      "cell_type": "code",
      "source": [
        "import numpy as np\n",
        "import torch\n",
        "from torch import nn\n",
        "import torch.nn.functional as F"
      ],
      "execution_count": 0,
      "outputs": []
    },
    {
      "metadata": {
        "id": "9ysW8vMOlEIW",
        "colab_type": "text"
      },
      "cell_type": "markdown",
      "source": [
        "## Load in Data\n",
        "\n",
        "Then, we'll load the Anna Karenina text file and convert it into integers for our network to use. "
      ]
    },
    {
      "metadata": {
        "id": "2SJhTj8ym6fC",
        "colab_type": "code",
        "outputId": "fada02c1-86a2-44df-83ea-b76a0439bb8a",
        "colab": {
          "base_uri": "https://localhost:8080/",
          "height": 235
        }
      },
      "cell_type": "code",
      "source": [
        "!wget -O anna.txt https://raw.githubusercontent.com/QnnLu/deep-learning-v2-pytorch/master/recurrent-neural-networks/char-rnn/data/anna.txt"
      ],
      "execution_count": 3,
      "outputs": [
        {
          "output_type": "stream",
          "text": [
            "--2018-12-21 21:28:33--  https://raw.githubusercontent.com/QnnLu/deep-learning-v2-pytorch/master/recurrent-neural-networks/char-rnn/data/anna.txt\n",
            "Resolving raw.githubusercontent.com (raw.githubusercontent.com)... 151.101.0.133, 151.101.64.133, 151.101.128.133, ...\n",
            "Connecting to raw.githubusercontent.com (raw.githubusercontent.com)|151.101.0.133|:443... connected.\n",
            "HTTP request sent, awaiting response... 200 OK\n",
            "Length: 2025486 (1.9M) [text/plain]\n",
            "Saving to: ‘anna.txt’\n",
            "\n",
            "anna.txt            100%[===================>]   1.93M  --.-KB/s    in 0.09s   \n",
            "\n",
            "2018-12-21 21:28:34 (21.3 MB/s) - ‘anna.txt’ saved [2025486/2025486]\n",
            "\n"
          ],
          "name": "stdout"
        }
      ]
    },
    {
      "metadata": {
        "id": "0XhSIe9mlEIX",
        "colab_type": "code",
        "colab": {}
      },
      "cell_type": "code",
      "source": [
        "# open text file and read in data as `text`\n",
        "with open('anna.txt', 'r') as f:\n",
        "    text = f.read()"
      ],
      "execution_count": 0,
      "outputs": []
    },
    {
      "metadata": {
        "id": "7ppE5BsdlEIa",
        "colab_type": "text"
      },
      "cell_type": "markdown",
      "source": [
        "Let's check out the first 100 characters, make sure everything is peachy. According to the [American Book Review](http://americanbookreview.org/100bestlines.asp), this is the 6th best first line of a book ever."
      ]
    },
    {
      "metadata": {
        "id": "jCWFcvl2lEIc",
        "colab_type": "code",
        "outputId": "ba53dccd-9dda-43ac-a53a-741141deddd4",
        "colab": {
          "base_uri": "https://localhost:8080/",
          "height": 35
        }
      },
      "cell_type": "code",
      "source": [
        "text[:100]"
      ],
      "execution_count": 5,
      "outputs": [
        {
          "output_type": "execute_result",
          "data": {
            "text/plain": [
              "'Chapter 1\\n\\n\\nHappy families are all alike; every unhappy family is unhappy in its own\\nway.\\n\\nEverythin'"
            ]
          },
          "metadata": {
            "tags": []
          },
          "execution_count": 5
        }
      ]
    },
    {
      "metadata": {
        "id": "Tc3Ioa-0lEIf",
        "colab_type": "text"
      },
      "cell_type": "markdown",
      "source": [
        "### Tokenization\n",
        "\n",
        "In the cells, below, I'm creating a couple **dictionaries** to convert the characters to and from integers. Encoding the characters as integers makes it easier to use as input in the network."
      ]
    },
    {
      "metadata": {
        "id": "Z_XpBy8DlEIg",
        "colab_type": "code",
        "colab": {}
      },
      "cell_type": "code",
      "source": [
        "# encode the text and map each character to an integer and vice versa\n",
        "\n",
        "# we create two dictionaries:\n",
        "# 1. int2char, which maps integers to characters\n",
        "# 2. char2int, which maps characters to unique integers\n",
        "chars = tuple(set(text))\n",
        "int2char = dict(enumerate(chars))\n",
        "char2int = {ch: ii for ii, ch in int2char.items()}\n",
        "\n",
        "# encode the text\n",
        "encoded = np.array([char2int[ch] for ch in text])"
      ],
      "execution_count": 0,
      "outputs": []
    },
    {
      "metadata": {
        "id": "Jn-jqg-elEIj",
        "colab_type": "text"
      },
      "cell_type": "markdown",
      "source": [
        "And we can see those same characters from above, encoded as integers."
      ]
    },
    {
      "metadata": {
        "id": "mjIr65CdlEIk",
        "colab_type": "code",
        "outputId": "04657145-8dce-4e7c-9f8a-baa1d2b3a489",
        "colab": {
          "base_uri": "https://localhost:8080/",
          "height": 125
        }
      },
      "cell_type": "code",
      "source": [
        "encoded[:100]"
      ],
      "execution_count": 7,
      "outputs": [
        {
          "output_type": "execute_result",
          "data": {
            "text/plain": [
              "array([55,  1,  4, 20,  5, 72, 61, 73, 63, 35, 35, 35, 18,  4, 20, 20, 62,\n",
              "       73, 82,  4, 80, 12, 28, 12, 72, 16, 73,  4, 61, 72, 73,  4, 28, 28,\n",
              "       73,  4, 28, 12, 59, 72, 44, 73, 72, 21, 72, 61, 62, 73, 74, 31,  1,\n",
              "        4, 20, 20, 62, 73, 82,  4, 80, 12, 28, 62, 73, 12, 16, 73, 74, 31,\n",
              "        1,  4, 20, 20, 62, 73, 12, 31, 73, 12,  5, 16, 73, 66, 19, 31, 35,\n",
              "       19,  4, 62, 13, 35, 35, 48, 21, 72, 61, 62,  5,  1, 12, 31])"
            ]
          },
          "metadata": {
            "tags": []
          },
          "execution_count": 7
        }
      ]
    },
    {
      "metadata": {
        "id": "lgDARbRXlEIo",
        "colab_type": "text"
      },
      "cell_type": "markdown",
      "source": [
        "## Pre-processing the data\n",
        "\n",
        "As you can see in our char-RNN image above, our LSTM expects an input that is **one-hot encoded** meaning that each character is converted into an integer (via our created dictionary) and *then* converted into a column vector where only it's corresponding integer index will have the value of 1 and the rest of the vector will be filled with 0's. Since we're one-hot encoding the data, let's make a function to do that!\n"
      ]
    },
    {
      "metadata": {
        "id": "-WHMb222lEIp",
        "colab_type": "code",
        "colab": {}
      },
      "cell_type": "code",
      "source": [
        "def one_hot_encode(arr, n_labels):\n",
        "    \n",
        "    # Initialize the the encoded array\n",
        "    one_hot = np.zeros((np.multiply(*arr.shape), n_labels), dtype=np.float32) # shppe 3x8\n",
        "    \n",
        "    # Fill the appropriate elements with ones\n",
        "    one_hot[np.arange(one_hot.shape[0]), arr.flatten()] = 1.\n",
        "    \n",
        "    # Finally reshape it to get back to the original array\n",
        "    one_hot = one_hot.reshape((*arr.shape, n_labels)) # shape 1x3x8\n",
        "    \n",
        "    return one_hot"
      ],
      "execution_count": 0,
      "outputs": []
    },
    {
      "metadata": {
        "id": "XD1RuinJlEIu",
        "colab_type": "code",
        "outputId": "a000c884-b774-4235-c423-a4ef2a226519",
        "colab": {
          "base_uri": "https://localhost:8080/",
          "height": 71
        }
      },
      "cell_type": "code",
      "source": [
        "# check that the function works as expected\n",
        "test_seq = np.array([[3, 5, 1]])\n",
        "one_hot = one_hot_encode(test_seq, 8)\n",
        "\n",
        "print(one_hot, one_hot.shape)"
      ],
      "execution_count": 9,
      "outputs": [
        {
          "output_type": "stream",
          "text": [
            "[[[0. 0. 0. 1. 0. 0. 0. 0.]\n",
            "  [0. 0. 0. 0. 0. 1. 0. 0.]\n",
            "  [0. 1. 0. 0. 0. 0. 0. 0.]]] (1, 3, 8)\n"
          ],
          "name": "stdout"
        }
      ]
    },
    {
      "metadata": {
        "id": "t0PFTpHTlEIx",
        "colab_type": "text"
      },
      "cell_type": "markdown",
      "source": [
        "## Making training mini-batches\n",
        "\n",
        "\n",
        "To train on this data, we also want to create mini-batches for training. Remember that we want our batches to be multiple sequences of some desired number of sequence steps. Considering a simple example, our batches would look like this:\n",
        "\n",
        "<img src=\"https://github.com/QnnLu/deep-learning-v2-pytorch/blob/master/recurrent-neural-networks/char-rnn/assets/sequence_batching@1x.png?raw=1\" width=500px>\n",
        "\n",
        "\n",
        "<br>\n",
        "\n",
        "In this example, we'll take the encoded characters (passed in as the `arr` parameter) and split them into multiple sequences, given by `batch_size`. Each of our sequences will be `seq_length` long.\n",
        "\n",
        "### Creating Batches\n",
        "\n",
        "**1. The first thing we need to do is discard some of the text so we only have completely full mini-batches. **\n",
        "\n",
        "Each batch contains $N \\times M$ characters, where $N$ is the batch size (the number of sequences in a batch) and $M$ is the seq_length or number of time steps in a sequence. Then, to get the total number of batches, $K$, that we can make from the array `arr`, you divide the length of `arr` by the number of characters per batch. Once you know the number of batches, you can get the total number of characters to keep from `arr`, $N * M * K$.\n",
        "\n",
        "**2. After that, we need to split `arr` into $N$ batches. ** \n",
        "\n",
        "You can do this using `arr.reshape(size)` where `size` is a tuple containing the dimensions sizes of the reshaped array. We know we want $N$ sequences in a batch, so let's make that the size of the first dimension. For the second dimension, you can use `-1` as a placeholder in the size, it'll fill up the array with the appropriate data for you. After this, you should have an array that is $N \\times (M * K)$.\n",
        "\n",
        "**3. Now that we have this array, we can iterate through it to get our mini-batches. **\n",
        "\n",
        "The idea is each batch is a $N \\times M$ window on the $N \\times (M * K)$ array. For each subsequent batch, the window moves over by `seq_length`. We also want to create both the input and target arrays. Remember that the targets are just the inputs shifted over by one character. The way I like to do this window is use `range` to take steps of size `n_steps` from $0$ to `arr.shape[1]`, the total number of tokens in each sequence. That way, the integers you get from `range` always point to the start of a batch, and each window is `seq_length` wide.\n",
        "\n",
        "> **TODO:** Write the code for creating batches in the function below. The exercises in this notebook _will not be easy_. I've provided a notebook with solutions alongside this notebook. If you get stuck, checkout the solutions. The most important thing is that you don't copy and paste the code into here, **type out the solution code yourself.**"
      ]
    },
    {
      "metadata": {
        "id": "7WDPi8RUlEIz",
        "colab_type": "code",
        "colab": {}
      },
      "cell_type": "code",
      "source": [
        "def get_batches(arr, batch_size, seq_length):\n",
        "    '''Create a generator that returns batches of size\n",
        "       batch_size x seq_length from arr.\n",
        "       \n",
        "       Arguments\n",
        "       ---------\n",
        "       arr: Array you want to make batches from\n",
        "       batch_size: Batch size, the number of sequences per batch\n",
        "       seq_length: Number of encoded chars in a sequence\n",
        "    '''\n",
        "    \n",
        "    ## TODO: Get the number of batches we can make\n",
        "    n_batches = int(len(arr)/(batch_size * seq_length)) #K\n",
        "    \n",
        "    ## TODO: Keep only enough characters to make full batches\n",
        "    arr = arr[:n_batches * batch_size * seq_length]\n",
        "    \n",
        "    ## TODO: Reshape into batch_size rows\n",
        "    arr = arr.reshape(batch_size, -1)\n",
        "    \n",
        "    ## TODO: Iterate over the batches using a window of size seq_length\n",
        "    for n in range(0, arr.shape[1], seq_length):\n",
        "        # The features\n",
        "        x = arr[:,n:n+seq_length]\n",
        "        # The targets, shifted by one\n",
        "        y = np.zeros_like(x)\n",
        "        try:\n",
        "          y[:, :-1], y[:, -1] = x[:, 1:], arr[:, n+seq_length]\n",
        "        except IndexError:\n",
        "          y[:, :-1], y[:, -1] = x[:, 1:], arr[:, 0]\n",
        "        yield x, y"
      ],
      "execution_count": 0,
      "outputs": []
    },
    {
      "metadata": {
        "id": "vYy9KYp5lEI2",
        "colab_type": "text"
      },
      "cell_type": "markdown",
      "source": [
        "### Test Your Implementation\n",
        "\n",
        "Now I'll make some data sets and we can check out what's going on as we batch data. Here, as an example, I'm going to use a batch size of 8 and 50 sequence steps."
      ]
    },
    {
      "metadata": {
        "id": "9hbbW6kDlEI3",
        "colab_type": "code",
        "colab": {}
      },
      "cell_type": "code",
      "source": [
        "batches = get_batches(encoded, 8, 50)\n",
        "x, y = next(batches)"
      ],
      "execution_count": 0,
      "outputs": []
    },
    {
      "metadata": {
        "id": "JUGY8Fc0lEI6",
        "colab_type": "code",
        "outputId": "ad164d91-ea78-45a5-a3f2-9f5d297e48fb",
        "colab": {
          "base_uri": "https://localhost:8080/",
          "height": 359
        }
      },
      "cell_type": "code",
      "source": [
        "# printing out the first 10 items in a sequence\n",
        "print('x\\n', x[:10, :10])\n",
        "print('\\ny\\n', y[:10, :10])"
      ],
      "execution_count": 12,
      "outputs": [
        {
          "output_type": "stream",
          "text": [
            "x\n",
            " [[55  1  4 20  5 72 61 73 63 35]\n",
            " [16 66 31 73  5  1  4  5 73  4]\n",
            " [72 31  7 73 66 61 73  4 73 82]\n",
            " [16 73  5  1 72 73 70  1 12 72]\n",
            " [73 16  4 19 73  1 72 61 73  5]\n",
            " [70 74 16 16 12 66 31 73  4 31]\n",
            " [73 78 31 31  4 73  1  4  7 73]\n",
            " [77 47 28 66 31 16 59 62 13 73]]\n",
            "\n",
            "y\n",
            " [[ 1  4 20  5 72 61 73 63 35 35]\n",
            " [66 31 73  5  1  4  5 73  4  5]\n",
            " [31  7 73 66 61 73  4 73 82 66]\n",
            " [73  5  1 72 73 70  1 12 72 82]\n",
            " [16  4 19 73  1 72 61 73  5 72]\n",
            " [74 16 16 12 66 31 73  4 31  7]\n",
            " [78 31 31  4 73  1  4  7 73 16]\n",
            " [47 28 66 31 16 59 62 13 73 15]]\n"
          ],
          "name": "stdout"
        }
      ]
    },
    {
      "metadata": {
        "id": "kCSdct-ClEI9",
        "colab_type": "text"
      },
      "cell_type": "markdown",
      "source": [
        "If you implemented `get_batches` correctly, the above output should look something like \n",
        "```\n",
        "x\n",
        " [[25  8 60 11 45 27 28 73  1  2]\n",
        " [17  7 20 73 45  8 60 45 73 60]\n",
        " [27 20 80 73  7 28 73 60 73 65]\n",
        " [17 73 45  8 27 73 66  8 46 27]\n",
        " [73 17 60 12 73  8 27 28 73 45]\n",
        " [66 64 17 17 46  7 20 73 60 20]\n",
        " [73 76 20 20 60 73  8 60 80 73]\n",
        " [47 35 43  7 20 17 24 50 37 73]]\n",
        "\n",
        "y\n",
        " [[ 8 60 11 45 27 28 73  1  2  2]\n",
        " [ 7 20 73 45  8 60 45 73 60 45]\n",
        " [20 80 73  7 28 73 60 73 65  7]\n",
        " [73 45  8 27 73 66  8 46 27 65]\n",
        " [17 60 12 73  8 27 28 73 45 27]\n",
        " [64 17 17 46  7 20 73 60 20 80]\n",
        " [76 20 20 60 73  8 60 80 73 17]\n",
        " [35 43  7 20 17 24 50 37 73 36]]\n",
        " ```\n",
        " although the exact numbers may be different. Check to make sure the data is shifted over one step for `y`."
      ]
    },
    {
      "metadata": {
        "id": "FJg0KsZMlEI-",
        "colab_type": "text"
      },
      "cell_type": "markdown",
      "source": [
        "---\n",
        "## Defining the network with PyTorch\n",
        "\n",
        "Below is where you'll define the network.\n",
        "\n",
        "<img src=\"https://github.com/QnnLu/deep-learning-v2-pytorch/blob/master/recurrent-neural-networks/char-rnn/assets/charRNN.png?raw=1\" width=500px>\n",
        "\n",
        "Next, you'll use PyTorch to define the architecture of the network. We start by defining the layers and operations we want. Then, define a method for the forward pass. You've also been given a method for predicting characters."
      ]
    },
    {
      "metadata": {
        "id": "0tDT_vLqlEI_",
        "colab_type": "text"
      },
      "cell_type": "markdown",
      "source": [
        "### Model Structure\n",
        "\n",
        "In `__init__` the suggested structure is as follows:\n",
        "* Create and store the necessary dictionaries (this has been done for you)\n",
        "* Define an LSTM layer that takes as params: an input size (the number of characters), a hidden layer size `n_hidden`, a number of layers `n_layers`, a dropout probability `drop_prob`, and a batch_first boolean (True, since we are batching)\n",
        "* Define a dropout layer with `dropout_prob`\n",
        "* Define a fully-connected layer with params: input size `n_hidden` and output size (the number of characters)\n",
        "* Finally, initialize the weights (again, this has been given)\n",
        "\n",
        "Note that some parameters have been named and given in the `__init__` function, and we use them and store them by doing something like `self.drop_prob = drop_prob`."
      ]
    },
    {
      "metadata": {
        "id": "4v3-1MchlEJA",
        "colab_type": "text"
      },
      "cell_type": "markdown",
      "source": [
        "---\n",
        "### LSTM Inputs/Outputs\n",
        "\n",
        "You can create a basic [LSTM layer](https://pytorch.org/docs/stable/nn.html#lstm) as follows\n",
        "\n",
        "```python\n",
        "self.lstm = nn.LSTM(input_size, n_hidden, n_layers, \n",
        "                            dropout=drop_prob, batch_first=True)\n",
        "```\n",
        "\n",
        "where `input_size` is the number of characters this cell expects to see as sequential input, and `n_hidden` is the number of units in the hidden layers in the cell. And we can add dropout by adding a dropout parameter with a specified probability; this will automatically add dropout to the inputs or outputs. Finally, in the `forward` function, we can stack up the LSTM cells into layers using `.view`. With this, you pass in a list of cells and it will send the output of one cell into the next cell.\n",
        "\n",
        "We also need to create an initial hidden state of all zeros. This is done like so\n",
        "\n",
        "```python\n",
        "self.init_hidden()\n",
        "```"
      ]
    },
    {
      "metadata": {
        "id": "zmTkf2G6lEJB",
        "colab_type": "code",
        "colab": {
          "base_uri": "https://localhost:8080/",
          "height": 35
        },
        "outputId": "5ecceb6a-d573-43af-baf8-db5fc0fcb472"
      },
      "cell_type": "code",
      "source": [
        "# check if GPU is available\n",
        "train_on_gpu = torch.cuda.is_available()\n",
        "if(train_on_gpu):\n",
        "    print('Training on GPU!')\n",
        "else: \n",
        "    print('No GPU available, training on CPU; consider making n_epochs very small.')"
      ],
      "execution_count": 13,
      "outputs": [
        {
          "output_type": "stream",
          "text": [
            "Training on GPU!\n"
          ],
          "name": "stdout"
        }
      ]
    },
    {
      "metadata": {
        "id": "zVOoctzJlEJE",
        "colab_type": "code",
        "colab": {}
      },
      "cell_type": "code",
      "source": [
        "class CharRNN(nn.Module):\n",
        "    \n",
        "    def __init__(self, tokens, n_hidden=256, n_layers=2,\n",
        "                               drop_prob=0.5, lr=0.001):\n",
        "        super().__init__()\n",
        "        self.drop_prob = drop_prob\n",
        "        self.n_layers = n_layers\n",
        "        self.n_hidden = n_hidden\n",
        "        self.lr = lr\n",
        "        \n",
        "        # creating character dictionaries\n",
        "        self.chars = tokens\n",
        "        self.int2char = dict(enumerate(self.chars))\n",
        "        self.char2int = {ch: ii for ii, ch in self.int2char.items()}\n",
        "        \n",
        "        ## TODO: define the layers of the model\n",
        "        input_size = len(self.chars)\n",
        "        self.lstm = nn.LSTM(input_size, n_hidden, n_layers,\n",
        "                            dropout=drop_prob, batch_first=True)\n",
        "        \n",
        "        self.dropout = nn.Dropout(drop_prob)\n",
        "        \n",
        "        self.fc = nn.Linear(n_hidden, input_size) #ouput_size == input_size in this case.\n",
        "      \n",
        "    \n",
        "    def forward(self, x, hidden):\n",
        "        ''' Forward pass through the network. \n",
        "            These inputs are x, and the hidden/cell state `hidden`. '''\n",
        "                \n",
        "        ## TODO: Get the outputs and the new hidden state from the lstm\n",
        "        out, hidden = self.lstm(x, hidden)\n",
        "        \n",
        "        out = self.dropout(out)\n",
        "        \n",
        "        out = out.contiguous().view(-1, self.n_hidden)\n",
        "        \n",
        "        out = self.fc(out)\n",
        "        \n",
        "        # return the final output and the hidden state\n",
        "        return out, hidden\n",
        "    \n",
        "    \n",
        "    def init_hidden(self, batch_size):\n",
        "        ''' Initializes hidden state '''\n",
        "        # Create two new tensors with sizes n_layers x batch_size x n_hidden,\n",
        "        # initialized to zero, for hidden state and cell state of LSTM\n",
        "        \n",
        "        #https://discuss.pytorch.org/t/what-does-next-self-parameters-data-mean/1458\n",
        "        weight = next(self.parameters()).data\n",
        "        \n",
        "        if (train_on_gpu):\n",
        "            hidden = (weight.new(self.n_layers, batch_size, self.n_hidden).zero_().cuda(),\n",
        "                  weight.new(self.n_layers, batch_size, self.n_hidden).zero_().cuda())\n",
        "        else:\n",
        "            hidden = (weight.new(self.n_layers, batch_size, self.n_hidden).zero_(),\n",
        "                      weight.new(self.n_layers, batch_size, self.n_hidden).zero_())\n",
        "        \n",
        "        return hidden\n",
        "        "
      ],
      "execution_count": 0,
      "outputs": []
    },
    {
      "metadata": {
        "id": "yKkMQEGulEJI",
        "colab_type": "text"
      },
      "cell_type": "markdown",
      "source": [
        "## Time to train\n",
        "\n",
        "The train function gives us the ability to set the number of epochs, the learning rate, and other parameters.\n",
        "\n",
        "Below we're using an Adam optimizer and cross entropy loss since we are looking at character class scores as output. We calculate the loss and perform backpropagation, as usual!\n",
        "\n",
        "A couple of details about training: \n",
        ">* Within the batch loop, we detach the hidden state from its history; this time setting it equal to a new *tuple* variable because an LSTM has a hidden state that is a tuple of the hidden and cell states.\n",
        "* We use [`clip_grad_norm_`](https://pytorch.org/docs/stable/_modules/torch/nn/utils/clip_grad.html) to help prevent exploding gradients."
      ]
    },
    {
      "metadata": {
        "id": "QREOBZvdlEJK",
        "colab_type": "code",
        "colab": {}
      },
      "cell_type": "code",
      "source": [
        "def train(net, data, epochs=10, batch_size=10, seq_length=50, lr=0.001, clip=5, val_frac=0.1, print_every=10):\n",
        "    ''' Training a network \n",
        "    \n",
        "        Arguments\n",
        "        ---------\n",
        "        \n",
        "        net: CharRNN network\n",
        "        data: text data to train the network\n",
        "        epochs: Number of epochs to train\n",
        "        batch_size: Number of mini-sequences per mini-batch, aka batch size\n",
        "        seq_length: Number of character steps per mini-batch\n",
        "        lr: learning rate\n",
        "        clip: gradient clipping\n",
        "        val_frac: Fraction of data to hold out for validation\n",
        "        print_every: Number of steps for printing training and validation loss\n",
        "    \n",
        "    '''\n",
        "    net.train()\n",
        "    \n",
        "    opt = torch.optim.Adam(net.parameters(), lr=lr)\n",
        "    criterion = nn.CrossEntropyLoss()\n",
        "    \n",
        "    # create training and validation data\n",
        "    val_idx = int(len(data)*(1-val_frac))\n",
        "    data, val_data = data[:val_idx], data[val_idx:]\n",
        "    \n",
        "    if(train_on_gpu):\n",
        "        net.cuda()\n",
        "    \n",
        "    counter = 0\n",
        "    n_chars = len(net.chars)\n",
        "    for e in range(epochs):\n",
        "        # initialize hidden state\n",
        "        h = net.init_hidden(batch_size)\n",
        "        \n",
        "        for x, y in get_batches(data, batch_size, seq_length):\n",
        "            counter += 1\n",
        "            \n",
        "            # One-hot encode our data and make them Torch tensors\n",
        "            x = one_hot_encode(x, n_chars)\n",
        "            inputs, targets = torch.from_numpy(x), torch.from_numpy(y)\n",
        "            \n",
        "            if(train_on_gpu):\n",
        "                inputs, targets = inputs.cuda(), targets.cuda()\n",
        "\n",
        "            # Creating new variables for the hidden state, otherwise\n",
        "            # we'd backprop through the entire training history\n",
        "            h = tuple([each.data for each in h])\n",
        "\n",
        "            # zero accumulated gradients\n",
        "            net.zero_grad()\n",
        "            \n",
        "            # get the output from the model\n",
        "            output, h = net(inputs, h)\n",
        "            \n",
        "            # calculate the loss and perform backprop\n",
        "            loss = criterion(output, targets.view(batch_size*seq_length))\n",
        "            loss.backward()\n",
        "            # `clip_grad_norm` helps prevent the exploding gradient problem in RNNs / LSTMs.\n",
        "            nn.utils.clip_grad_norm_(net.parameters(), clip)\n",
        "            opt.step()\n",
        "            \n",
        "            # loss stats\n",
        "            if counter % print_every == 0:\n",
        "                # Get validation loss\n",
        "                val_h = net.init_hidden(batch_size)\n",
        "                val_losses = []\n",
        "                net.eval()\n",
        "                for x, y in get_batches(val_data, batch_size, seq_length):\n",
        "                    # One-hot encode our data and make them Torch tensors\n",
        "                    x = one_hot_encode(x, n_chars)\n",
        "                    x, y = torch.from_numpy(x), torch.from_numpy(y)\n",
        "                    \n",
        "                    # Creating new variables for the hidden state, otherwise\n",
        "                    # we'd backprop through the entire training history\n",
        "                    val_h = tuple([each.data for each in val_h])\n",
        "                    \n",
        "                    inputs, targets = x, y\n",
        "                    if(train_on_gpu):\n",
        "                        inputs, targets = inputs.cuda(), targets.cuda()\n",
        "\n",
        "                    output, val_h = net(inputs, val_h)\n",
        "                    val_loss = criterion(output, targets.view(batch_size*seq_length))\n",
        "                \n",
        "                    val_losses.append(val_loss.item())\n",
        "                \n",
        "                net.train() # reset to train mode after iterationg through validation data\n",
        "                \n",
        "                print(\"Epoch: {}/{}...\".format(e+1, epochs),\n",
        "                      \"Step: {}...\".format(counter),\n",
        "                      \"Loss: {:.4f}...\".format(loss.item()),\n",
        "                      \"Val Loss: {:.4f}\".format(np.mean(val_losses)))"
      ],
      "execution_count": 0,
      "outputs": []
    },
    {
      "metadata": {
        "id": "jj4R0hGvlEJP",
        "colab_type": "text"
      },
      "cell_type": "markdown",
      "source": [
        "## Instantiating the model\n",
        "\n",
        "Now we can actually train the network. First we'll create the network itself, with some given hyperparameters. Then, define the mini-batches sizes, and start training!"
      ]
    },
    {
      "metadata": {
        "id": "lH1lMZZplEJR",
        "colab_type": "code",
        "colab": {
          "base_uri": "https://localhost:8080/",
          "height": 107
        },
        "outputId": "72c61ecf-baac-4fc5-81cf-175bab29f94f"
      },
      "cell_type": "code",
      "source": [
        "## TODO: set you model hyperparameters\n",
        "# define and print the net\n",
        "n_hidden= 512\n",
        "n_layers= 2\n",
        "\n",
        "net = CharRNN(chars, n_hidden, n_layers)\n",
        "print(net)"
      ],
      "execution_count": 30,
      "outputs": [
        {
          "output_type": "stream",
          "text": [
            "CharRNN(\n",
            "  (lstm): LSTM(83, 512, num_layers=2, batch_first=True, dropout=0.5)\n",
            "  (dropout): Dropout(p=0.5)\n",
            "  (fc): Linear(in_features=512, out_features=83, bias=True)\n",
            ")\n"
          ],
          "name": "stdout"
        }
      ]
    },
    {
      "metadata": {
        "id": "kg7zrjpblEJW",
        "colab_type": "text"
      },
      "cell_type": "markdown",
      "source": [
        "### Set your training hyperparameters!"
      ]
    },
    {
      "metadata": {
        "scrolled": true,
        "id": "NZEuggYKlEJX",
        "colab_type": "code",
        "colab": {
          "base_uri": "https://localhost:8080/",
          "height": 5021
        },
        "outputId": "8c477a58-e582-4fc6-e125-6a4c2dc42ba1"
      },
      "cell_type": "code",
      "source": [
        "batch_size = 128\n",
        "seq_length = 100\n",
        "n_epochs = 20 # start small if you are just testing initial behavior\n",
        "\n",
        "# train the model\n",
        "train(net, encoded, epochs=n_epochs, batch_size=batch_size, seq_length=seq_length, lr=0.001, print_every=10)"
      ],
      "execution_count": 32,
      "outputs": [
        {
          "output_type": "stream",
          "text": [
            "Epoch: 1/20... Step: 10... Loss: 1.8220... Val Loss: 1.7815\n",
            "Epoch: 1/20... Step: 20... Loss: 1.7944... Val Loss: 1.7422\n",
            "Epoch: 1/20... Step: 30... Loss: 1.7595... Val Loss: 1.7205\n",
            "Epoch: 1/20... Step: 40... Loss: 1.7324... Val Loss: 1.7117\n",
            "Epoch: 1/20... Step: 50... Loss: 1.7612... Val Loss: 1.7023\n",
            "Epoch: 1/20... Step: 60... Loss: 1.6883... Val Loss: 1.6963\n",
            "Epoch: 1/20... Step: 70... Loss: 1.7049... Val Loss: 1.6893\n",
            "Epoch: 1/20... Step: 80... Loss: 1.6926... Val Loss: 1.6832\n",
            "Epoch: 1/20... Step: 90... Loss: 1.6986... Val Loss: 1.6755\n",
            "Epoch: 1/20... Step: 100... Loss: 1.6843... Val Loss: 1.6692\n",
            "Epoch: 1/20... Step: 110... Loss: 1.6605... Val Loss: 1.6676\n",
            "Epoch: 1/20... Step: 120... Loss: 1.6450... Val Loss: 1.6576\n",
            "Epoch: 1/20... Step: 130... Loss: 1.6877... Val Loss: 1.6531\n",
            "Epoch: 2/20... Step: 140... Loss: 1.7094... Val Loss: 1.6466\n",
            "Epoch: 2/20... Step: 150... Loss: 1.6849... Val Loss: 1.6383\n",
            "Epoch: 2/20... Step: 160... Loss: 1.6739... Val Loss: 1.6342\n",
            "Epoch: 2/20... Step: 170... Loss: 1.6787... Val Loss: 1.6307\n",
            "Epoch: 2/20... Step: 180... Loss: 1.6386... Val Loss: 1.6214\n",
            "Epoch: 2/20... Step: 190... Loss: 1.5978... Val Loss: 1.6207\n",
            "Epoch: 2/20... Step: 200... Loss: 1.5866... Val Loss: 1.6137\n",
            "Epoch: 2/20... Step: 210... Loss: 1.6246... Val Loss: 1.6109\n",
            "Epoch: 2/20... Step: 220... Loss: 1.6022... Val Loss: 1.6060\n",
            "Epoch: 2/20... Step: 230... Loss: 1.6140... Val Loss: 1.5977\n",
            "Epoch: 2/20... Step: 240... Loss: 1.6180... Val Loss: 1.5944\n",
            "Epoch: 2/20... Step: 250... Loss: 1.5963... Val Loss: 1.5937\n",
            "Epoch: 2/20... Step: 260... Loss: 1.5551... Val Loss: 1.5814\n",
            "Epoch: 2/20... Step: 270... Loss: 1.6043... Val Loss: 1.5806\n",
            "Epoch: 3/20... Step: 280... Loss: 1.5887... Val Loss: 1.5713\n",
            "Epoch: 3/20... Step: 290... Loss: 1.6002... Val Loss: 1.5701\n",
            "Epoch: 3/20... Step: 300... Loss: 1.5689... Val Loss: 1.5629\n",
            "Epoch: 3/20... Step: 310... Loss: 1.5765... Val Loss: 1.5590\n",
            "Epoch: 3/20... Step: 320... Loss: 1.5309... Val Loss: 1.5521\n",
            "Epoch: 3/20... Step: 330... Loss: 1.5452... Val Loss: 1.5523\n",
            "Epoch: 3/20... Step: 340... Loss: 1.5849... Val Loss: 1.5443\n",
            "Epoch: 3/20... Step: 350... Loss: 1.5432... Val Loss: 1.5431\n",
            "Epoch: 3/20... Step: 360... Loss: 1.5067... Val Loss: 1.5384\n",
            "Epoch: 3/20... Step: 370... Loss: 1.5331... Val Loss: 1.5322\n",
            "Epoch: 3/20... Step: 380... Loss: 1.5482... Val Loss: 1.5312\n",
            "Epoch: 3/20... Step: 390... Loss: 1.5128... Val Loss: 1.5269\n",
            "Epoch: 3/20... Step: 400... Loss: 1.4958... Val Loss: 1.5194\n",
            "Epoch: 3/20... Step: 410... Loss: 1.5221... Val Loss: 1.5191\n",
            "Epoch: 4/20... Step: 420... Loss: 1.5213... Val Loss: 1.5130\n",
            "Epoch: 4/20... Step: 430... Loss: 1.5207... Val Loss: 1.5128\n",
            "Epoch: 4/20... Step: 440... Loss: 1.5207... Val Loss: 1.5077\n",
            "Epoch: 4/20... Step: 450... Loss: 1.4681... Val Loss: 1.5036\n",
            "Epoch: 4/20... Step: 460... Loss: 1.4473... Val Loss: 1.4965\n",
            "Epoch: 4/20... Step: 470... Loss: 1.5125... Val Loss: 1.4962\n",
            "Epoch: 4/20... Step: 480... Loss: 1.4971... Val Loss: 1.4882\n",
            "Epoch: 4/20... Step: 490... Loss: 1.4965... Val Loss: 1.4895\n",
            "Epoch: 4/20... Step: 500... Loss: 1.5103... Val Loss: 1.4847\n",
            "Epoch: 4/20... Step: 510... Loss: 1.4827... Val Loss: 1.4777\n",
            "Epoch: 4/20... Step: 520... Loss: 1.4911... Val Loss: 1.4769\n",
            "Epoch: 4/20... Step: 530... Loss: 1.4652... Val Loss: 1.4734\n",
            "Epoch: 4/20... Step: 540... Loss: 1.4318... Val Loss: 1.4688\n",
            "Epoch: 4/20... Step: 550... Loss: 1.4985... Val Loss: 1.4722\n",
            "Epoch: 5/20... Step: 560... Loss: 1.4576... Val Loss: 1.4670\n",
            "Epoch: 5/20... Step: 570... Loss: 1.4638... Val Loss: 1.4642\n",
            "Epoch: 5/20... Step: 580... Loss: 1.4450... Val Loss: 1.4587\n",
            "Epoch: 5/20... Step: 590... Loss: 1.4408... Val Loss: 1.4535\n",
            "Epoch: 5/20... Step: 600... Loss: 1.4407... Val Loss: 1.4523\n",
            "Epoch: 5/20... Step: 610... Loss: 1.4141... Val Loss: 1.4508\n",
            "Epoch: 5/20... Step: 620... Loss: 1.4350... Val Loss: 1.4468\n",
            "Epoch: 5/20... Step: 630... Loss: 1.4544... Val Loss: 1.4449\n",
            "Epoch: 5/20... Step: 640... Loss: 1.4100... Val Loss: 1.4396\n",
            "Epoch: 5/20... Step: 650... Loss: 1.4297... Val Loss: 1.4363\n",
            "Epoch: 5/20... Step: 660... Loss: 1.4099... Val Loss: 1.4378\n",
            "Epoch: 5/20... Step: 670... Loss: 1.4314... Val Loss: 1.4320\n",
            "Epoch: 5/20... Step: 680... Loss: 1.4227... Val Loss: 1.4276\n",
            "Epoch: 5/20... Step: 690... Loss: 1.4200... Val Loss: 1.4323\n",
            "Epoch: 6/20... Step: 700... Loss: 1.4213... Val Loss: 1.4298\n",
            "Epoch: 6/20... Step: 710... Loss: 1.3988... Val Loss: 1.4264\n",
            "Epoch: 6/20... Step: 720... Loss: 1.3947... Val Loss: 1.4192\n",
            "Epoch: 6/20... Step: 730... Loss: 1.4065... Val Loss: 1.4122\n",
            "Epoch: 6/20... Step: 740... Loss: 1.3731... Val Loss: 1.4180\n",
            "Epoch: 6/20... Step: 750... Loss: 1.3793... Val Loss: 1.4124\n",
            "Epoch: 6/20... Step: 760... Loss: 1.4087... Val Loss: 1.4094\n",
            "Epoch: 6/20... Step: 770... Loss: 1.3895... Val Loss: 1.4050\n",
            "Epoch: 6/20... Step: 780... Loss: 1.3907... Val Loss: 1.4014\n",
            "Epoch: 6/20... Step: 790... Loss: 1.3662... Val Loss: 1.4025\n",
            "Epoch: 6/20... Step: 800... Loss: 1.3880... Val Loss: 1.4007\n",
            "Epoch: 6/20... Step: 810... Loss: 1.3655... Val Loss: 1.3976\n",
            "Epoch: 6/20... Step: 820... Loss: 1.3404... Val Loss: 1.3910\n",
            "Epoch: 6/20... Step: 830... Loss: 1.3802... Val Loss: 1.3888\n",
            "Epoch: 7/20... Step: 840... Loss: 1.3489... Val Loss: 1.3908\n",
            "Epoch: 7/20... Step: 850... Loss: 1.3580... Val Loss: 1.3867\n",
            "Epoch: 7/20... Step: 860... Loss: 1.3417... Val Loss: 1.3807\n",
            "Epoch: 7/20... Step: 870... Loss: 1.3522... Val Loss: 1.3761\n",
            "Epoch: 7/20... Step: 880... Loss: 1.3544... Val Loss: 1.3810\n",
            "Epoch: 7/20... Step: 890... Loss: 1.3529... Val Loss: 1.3769\n",
            "Epoch: 7/20... Step: 900... Loss: 1.3510... Val Loss: 1.3766\n",
            "Epoch: 7/20... Step: 910... Loss: 1.3145... Val Loss: 1.3712\n",
            "Epoch: 7/20... Step: 920... Loss: 1.3424... Val Loss: 1.3726\n",
            "Epoch: 7/20... Step: 930... Loss: 1.3348... Val Loss: 1.3727\n",
            "Epoch: 7/20... Step: 940... Loss: 1.3304... Val Loss: 1.3748\n",
            "Epoch: 7/20... Step: 950... Loss: 1.3531... Val Loss: 1.3634\n",
            "Epoch: 7/20... Step: 960... Loss: 1.3537... Val Loss: 1.3656\n",
            "Epoch: 7/20... Step: 970... Loss: 1.3491... Val Loss: 1.3694\n",
            "Epoch: 8/20... Step: 980... Loss: 1.3283... Val Loss: 1.3663\n",
            "Epoch: 8/20... Step: 990... Loss: 1.3400... Val Loss: 1.3608\n",
            "Epoch: 8/20... Step: 1000... Loss: 1.3260... Val Loss: 1.3568\n",
            "Epoch: 8/20... Step: 1010... Loss: 1.3566... Val Loss: 1.3508\n",
            "Epoch: 8/20... Step: 1020... Loss: 1.3426... Val Loss: 1.3586\n",
            "Epoch: 8/20... Step: 1030... Loss: 1.3207... Val Loss: 1.3530\n",
            "Epoch: 8/20... Step: 1040... Loss: 1.3372... Val Loss: 1.3554\n",
            "Epoch: 8/20... Step: 1050... Loss: 1.3098... Val Loss: 1.3471\n",
            "Epoch: 8/20... Step: 1060... Loss: 1.3052... Val Loss: 1.3449\n",
            "Epoch: 8/20... Step: 1070... Loss: 1.3177... Val Loss: 1.3450\n",
            "Epoch: 8/20... Step: 1080... Loss: 1.3055... Val Loss: 1.3451\n",
            "Epoch: 8/20... Step: 1090... Loss: 1.3051... Val Loss: 1.3471\n",
            "Epoch: 8/20... Step: 1100... Loss: 1.3003... Val Loss: 1.3456\n",
            "Epoch: 8/20... Step: 1110... Loss: 1.3056... Val Loss: 1.3407\n",
            "Epoch: 9/20... Step: 1120... Loss: 1.3197... Val Loss: 1.3439\n",
            "Epoch: 9/20... Step: 1130... Loss: 1.3177... Val Loss: 1.3415\n",
            "Epoch: 9/20... Step: 1140... Loss: 1.3163... Val Loss: 1.3379\n",
            "Epoch: 9/20... Step: 1150... Loss: 1.3379... Val Loss: 1.3346\n",
            "Epoch: 9/20... Step: 1160... Loss: 1.2844... Val Loss: 1.3389\n",
            "Epoch: 9/20... Step: 1170... Loss: 1.2984... Val Loss: 1.3377\n",
            "Epoch: 9/20... Step: 1180... Loss: 1.2900... Val Loss: 1.3359\n",
            "Epoch: 9/20... Step: 1190... Loss: 1.3273... Val Loss: 1.3336\n",
            "Epoch: 9/20... Step: 1200... Loss: 1.2849... Val Loss: 1.3346\n",
            "Epoch: 9/20... Step: 1210... Loss: 1.2917... Val Loss: 1.3289\n",
            "Epoch: 9/20... Step: 1220... Loss: 1.2883... Val Loss: 1.3296\n",
            "Epoch: 9/20... Step: 1230... Loss: 1.2768... Val Loss: 1.3316\n",
            "Epoch: 9/20... Step: 1240... Loss: 1.2825... Val Loss: 1.3272\n",
            "Epoch: 9/20... Step: 1250... Loss: 1.2949... Val Loss: 1.3264\n",
            "Epoch: 10/20... Step: 1260... Loss: 1.2894... Val Loss: 1.3277\n",
            "Epoch: 10/20... Step: 1270... Loss: 1.2918... Val Loss: 1.3253\n",
            "Epoch: 10/20... Step: 1280... Loss: 1.3013... Val Loss: 1.3229\n",
            "Epoch: 10/20... Step: 1290... Loss: 1.2917... Val Loss: 1.3208\n",
            "Epoch: 10/20... Step: 1300... Loss: 1.2815... Val Loss: 1.3254\n",
            "Epoch: 10/20... Step: 1310... Loss: 1.2937... Val Loss: 1.3214\n",
            "Epoch: 10/20... Step: 1320... Loss: 1.2606... Val Loss: 1.3210\n",
            "Epoch: 10/20... Step: 1330... Loss: 1.2682... Val Loss: 1.3165\n",
            "Epoch: 10/20... Step: 1340... Loss: 1.2533... Val Loss: 1.3173\n",
            "Epoch: 10/20... Step: 1350... Loss: 1.2528... Val Loss: 1.3224\n",
            "Epoch: 10/20... Step: 1360... Loss: 1.2613... Val Loss: 1.3159\n",
            "Epoch: 10/20... Step: 1370... Loss: 1.2643... Val Loss: 1.3154\n",
            "Epoch: 10/20... Step: 1380... Loss: 1.2897... Val Loss: 1.3130\n",
            "Epoch: 10/20... Step: 1390... Loss: 1.3095... Val Loss: 1.3084\n",
            "Epoch: 11/20... Step: 1400... Loss: 1.2944... Val Loss: 1.3116\n",
            "Epoch: 11/20... Step: 1410... Loss: 1.3176... Val Loss: 1.3146\n",
            "Epoch: 11/20... Step: 1420... Loss: 1.2984... Val Loss: 1.3045\n",
            "Epoch: 11/20... Step: 1430... Loss: 1.2667... Val Loss: 1.3077\n",
            "Epoch: 11/20... Step: 1440... Loss: 1.2845... Val Loss: 1.3153\n",
            "Epoch: 11/20... Step: 1450... Loss: 1.2279... Val Loss: 1.3086\n",
            "Epoch: 11/20... Step: 1460... Loss: 1.2519... Val Loss: 1.3094\n",
            "Epoch: 11/20... Step: 1470... Loss: 1.2364... Val Loss: 1.3079\n",
            "Epoch: 11/20... Step: 1480... Loss: 1.2652... Val Loss: 1.3097\n",
            "Epoch: 11/20... Step: 1490... Loss: 1.2490... Val Loss: 1.3068\n",
            "Epoch: 11/20... Step: 1500... Loss: 1.2467... Val Loss: 1.3151\n",
            "Epoch: 11/20... Step: 1510... Loss: 1.2218... Val Loss: 1.3026\n",
            "Epoch: 11/20... Step: 1520... Loss: 1.2526... Val Loss: 1.3014\n",
            "Epoch: 12/20... Step: 1530... Loss: 1.3559... Val Loss: 1.3021\n",
            "Epoch: 12/20... Step: 1540... Loss: 1.2698... Val Loss: 1.3031\n",
            "Epoch: 12/20... Step: 1550... Loss: 1.2724... Val Loss: 1.3008\n",
            "Epoch: 12/20... Step: 1560... Loss: 1.2861... Val Loss: 1.3002\n",
            "Epoch: 12/20... Step: 1570... Loss: 1.2391... Val Loss: 1.3002\n",
            "Epoch: 12/20... Step: 1580... Loss: 1.2194... Val Loss: 1.3017\n",
            "Epoch: 12/20... Step: 1590... Loss: 1.2180... Val Loss: 1.2988\n",
            "Epoch: 12/20... Step: 1600... Loss: 1.2320... Val Loss: 1.2968\n",
            "Epoch: 12/20... Step: 1610... Loss: 1.2395... Val Loss: 1.2967\n",
            "Epoch: 12/20... Step: 1620... Loss: 1.2223... Val Loss: 1.2986\n",
            "Epoch: 12/20... Step: 1630... Loss: 1.2580... Val Loss: 1.2938\n",
            "Epoch: 12/20... Step: 1640... Loss: 1.2322... Val Loss: 1.3011\n",
            "Epoch: 12/20... Step: 1650... Loss: 1.2052... Val Loss: 1.2909\n",
            "Epoch: 12/20... Step: 1660... Loss: 1.2727... Val Loss: 1.2883\n",
            "Epoch: 13/20... Step: 1670... Loss: 1.2332... Val Loss: 1.2908\n",
            "Epoch: 13/20... Step: 1680... Loss: 1.2411... Val Loss: 1.2906\n",
            "Epoch: 13/20... Step: 1690... Loss: 1.2305... Val Loss: 1.2891\n",
            "Epoch: 13/20... Step: 1700... Loss: 1.2208... Val Loss: 1.2863\n",
            "Epoch: 13/20... Step: 1710... Loss: 1.2098... Val Loss: 1.2908\n",
            "Epoch: 13/20... Step: 1720... Loss: 1.2281... Val Loss: 1.2890\n",
            "Epoch: 13/20... Step: 1730... Loss: 1.2542... Val Loss: 1.2903\n",
            "Epoch: 13/20... Step: 1740... Loss: 1.2214... Val Loss: 1.2867\n",
            "Epoch: 13/20... Step: 1750... Loss: 1.2002... Val Loss: 1.2889\n",
            "Epoch: 13/20... Step: 1760... Loss: 1.2279... Val Loss: 1.2916\n",
            "Epoch: 13/20... Step: 1770... Loss: 1.2454... Val Loss: 1.2888\n",
            "Epoch: 13/20... Step: 1780... Loss: 1.2106... Val Loss: 1.2958\n",
            "Epoch: 13/20... Step: 1790... Loss: 1.2134... Val Loss: 1.2880\n",
            "Epoch: 13/20... Step: 1800... Loss: 1.2387... Val Loss: 1.2853\n",
            "Epoch: 14/20... Step: 1810... Loss: 1.2363... Val Loss: 1.2874\n",
            "Epoch: 14/20... Step: 1820... Loss: 1.2126... Val Loss: 1.2837\n",
            "Epoch: 14/20... Step: 1830... Loss: 1.2359... Val Loss: 1.2840\n",
            "Epoch: 14/20... Step: 1840... Loss: 1.1888... Val Loss: 1.2832\n",
            "Epoch: 14/20... Step: 1850... Loss: 1.1747... Val Loss: 1.2821\n",
            "Epoch: 14/20... Step: 1860... Loss: 1.2228... Val Loss: 1.2794\n",
            "Epoch: 14/20... Step: 1870... Loss: 1.2446... Val Loss: 1.2823\n",
            "Epoch: 14/20... Step: 1880... Loss: 1.2188... Val Loss: 1.2795\n",
            "Epoch: 14/20... Step: 1890... Loss: 1.2403... Val Loss: 1.2859\n",
            "Epoch: 14/20... Step: 1900... Loss: 1.2219... Val Loss: 1.2801\n",
            "Epoch: 14/20... Step: 1910... Loss: 1.2239... Val Loss: 1.2801\n",
            "Epoch: 14/20... Step: 1920... Loss: 1.2106... Val Loss: 1.2824\n",
            "Epoch: 14/20... Step: 1930... Loss: 1.1854... Val Loss: 1.2774\n",
            "Epoch: 14/20... Step: 1940... Loss: 1.2331... Val Loss: 1.2756\n",
            "Epoch: 15/20... Step: 1950... Loss: 1.2181... Val Loss: 1.2808\n",
            "Epoch: 15/20... Step: 1960... Loss: 1.2163... Val Loss: 1.2768\n",
            "Epoch: 15/20... Step: 1970... Loss: 1.1991... Val Loss: 1.2743\n",
            "Epoch: 15/20... Step: 1980... Loss: 1.1941... Val Loss: 1.2775\n",
            "Epoch: 15/20... Step: 1990... Loss: 1.2039... Val Loss: 1.2762\n",
            "Epoch: 15/20... Step: 2000... Loss: 1.1792... Val Loss: 1.2748\n",
            "Epoch: 15/20... Step: 2010... Loss: 1.2013... Val Loss: 1.2776\n",
            "Epoch: 15/20... Step: 2020... Loss: 1.2256... Val Loss: 1.2754\n",
            "Epoch: 15/20... Step: 2030... Loss: 1.1922... Val Loss: 1.2774\n",
            "Epoch: 15/20... Step: 2040... Loss: 1.2188... Val Loss: 1.2736\n",
            "Epoch: 15/20... Step: 2050... Loss: 1.1916... Val Loss: 1.2793\n",
            "Epoch: 15/20... Step: 2060... Loss: 1.2045... Val Loss: 1.2773\n",
            "Epoch: 15/20... Step: 2070... Loss: 1.2071... Val Loss: 1.2730\n",
            "Epoch: 15/20... Step: 2080... Loss: 1.2033... Val Loss: 1.2702\n",
            "Epoch: 16/20... Step: 2090... Loss: 1.2169... Val Loss: 1.2773\n",
            "Epoch: 16/20... Step: 2100... Loss: 1.2031... Val Loss: 1.2694\n",
            "Epoch: 16/20... Step: 2110... Loss: 1.1896... Val Loss: 1.2706\n",
            "Epoch: 16/20... Step: 2120... Loss: 1.1971... Val Loss: 1.2706\n",
            "Epoch: 16/20... Step: 2130... Loss: 1.1801... Val Loss: 1.2679\n",
            "Epoch: 16/20... Step: 2140... Loss: 1.1974... Val Loss: 1.2691\n",
            "Epoch: 16/20... Step: 2150... Loss: 1.2199... Val Loss: 1.2727\n",
            "Epoch: 16/20... Step: 2160... Loss: 1.1971... Val Loss: 1.2694\n",
            "Epoch: 16/20... Step: 2170... Loss: 1.1977... Val Loss: 1.2749\n",
            "Epoch: 16/20... Step: 2180... Loss: 1.1853... Val Loss: 1.2661\n",
            "Epoch: 16/20... Step: 2190... Loss: 1.2002... Val Loss: 1.2728\n",
            "Epoch: 16/20... Step: 2200... Loss: 1.1964... Val Loss: 1.2783\n",
            "Epoch: 16/20... Step: 2210... Loss: 1.1519... Val Loss: 1.2710\n",
            "Epoch: 16/20... Step: 2220... Loss: 1.1943... Val Loss: 1.2705\n",
            "Epoch: 17/20... Step: 2230... Loss: 1.1846... Val Loss: 1.2715\n",
            "Epoch: 17/20... Step: 2240... Loss: 1.1873... Val Loss: 1.2639\n",
            "Epoch: 17/20... Step: 2250... Loss: 1.1720... Val Loss: 1.2637\n",
            "Epoch: 17/20... Step: 2260... Loss: 1.1772... Val Loss: 1.2727\n",
            "Epoch: 17/20... Step: 2270... Loss: 1.1968... Val Loss: 1.2665\n",
            "Epoch: 17/20... Step: 2280... Loss: 1.1991... Val Loss: 1.2635\n",
            "Epoch: 17/20... Step: 2290... Loss: 1.2049... Val Loss: 1.2681\n",
            "Epoch: 17/20... Step: 2300... Loss: 1.1620... Val Loss: 1.2714\n",
            "Epoch: 17/20... Step: 2310... Loss: 1.1750... Val Loss: 1.2696\n",
            "Epoch: 17/20... Step: 2320... Loss: 1.1727... Val Loss: 1.2593\n",
            "Epoch: 17/20... Step: 2330... Loss: 1.1681... Val Loss: 1.2632\n",
            "Epoch: 17/20... Step: 2340... Loss: 1.1857... Val Loss: 1.2642\n",
            "Epoch: 17/20... Step: 2350... Loss: 1.1941... Val Loss: 1.2626\n",
            "Epoch: 17/20... Step: 2360... Loss: 1.1952... Val Loss: 1.2622\n",
            "Epoch: 18/20... Step: 2370... Loss: 1.1725... Val Loss: 1.2612\n",
            "Epoch: 18/20... Step: 2380... Loss: 1.1820... Val Loss: 1.2554\n",
            "Epoch: 18/20... Step: 2390... Loss: 1.1781... Val Loss: 1.2619\n",
            "Epoch: 18/20... Step: 2400... Loss: 1.1936... Val Loss: 1.2666\n",
            "Epoch: 18/20... Step: 2410... Loss: 1.1999... Val Loss: 1.2633\n",
            "Epoch: 18/20... Step: 2420... Loss: 1.1747... Val Loss: 1.2671\n",
            "Epoch: 18/20... Step: 2430... Loss: 1.1902... Val Loss: 1.2618\n",
            "Epoch: 18/20... Step: 2440... Loss: 1.1725... Val Loss: 1.2623\n",
            "Epoch: 18/20... Step: 2450... Loss: 1.1635... Val Loss: 1.2628\n",
            "Epoch: 18/20... Step: 2460... Loss: 1.1826... Val Loss: 1.2561\n",
            "Epoch: 18/20... Step: 2470... Loss: 1.1719... Val Loss: 1.2578\n",
            "Epoch: 18/20... Step: 2480... Loss: 1.1544... Val Loss: 1.2635\n",
            "Epoch: 18/20... Step: 2490... Loss: 1.1539... Val Loss: 1.2601\n",
            "Epoch: 18/20... Step: 2500... Loss: 1.1697... Val Loss: 1.2624\n",
            "Epoch: 19/20... Step: 2510... Loss: 1.1706... Val Loss: 1.2589\n",
            "Epoch: 19/20... Step: 2520... Loss: 1.1839... Val Loss: 1.2542\n",
            "Epoch: 19/20... Step: 2530... Loss: 1.1790... Val Loss: 1.2587\n",
            "Epoch: 19/20... Step: 2540... Loss: 1.1931... Val Loss: 1.2557\n",
            "Epoch: 19/20... Step: 2550... Loss: 1.1547... Val Loss: 1.2591\n",
            "Epoch: 19/20... Step: 2560... Loss: 1.1782... Val Loss: 1.2642\n",
            "Epoch: 19/20... Step: 2570... Loss: 1.1619... Val Loss: 1.2585\n",
            "Epoch: 19/20... Step: 2580... Loss: 1.1980... Val Loss: 1.2619\n",
            "Epoch: 19/20... Step: 2590... Loss: 1.1618... Val Loss: 1.2585\n",
            "Epoch: 19/20... Step: 2600... Loss: 1.1567... Val Loss: 1.2578\n",
            "Epoch: 19/20... Step: 2610... Loss: 1.1670... Val Loss: 1.2603\n",
            "Epoch: 19/20... Step: 2620... Loss: 1.1549... Val Loss: 1.2591\n",
            "Epoch: 19/20... Step: 2630... Loss: 1.1598... Val Loss: 1.2591\n",
            "Epoch: 19/20... Step: 2640... Loss: 1.1763... Val Loss: 1.2538\n",
            "Epoch: 20/20... Step: 2650... Loss: 1.1819... Val Loss: 1.2545\n",
            "Epoch: 20/20... Step: 2660... Loss: 1.1772... Val Loss: 1.2521\n",
            "Epoch: 20/20... Step: 2670... Loss: 1.1781... Val Loss: 1.2566\n",
            "Epoch: 20/20... Step: 2680... Loss: 1.1698... Val Loss: 1.2538\n",
            "Epoch: 20/20... Step: 2690... Loss: 1.1678... Val Loss: 1.2539\n",
            "Epoch: 20/20... Step: 2700... Loss: 1.1815... Val Loss: 1.2587\n",
            "Epoch: 20/20... Step: 2710... Loss: 1.1456... Val Loss: 1.2600\n",
            "Epoch: 20/20... Step: 2720... Loss: 1.1430... Val Loss: 1.2581\n",
            "Epoch: 20/20... Step: 2730... Loss: 1.1474... Val Loss: 1.2562\n",
            "Epoch: 20/20... Step: 2740... Loss: 1.1411... Val Loss: 1.2537\n",
            "Epoch: 20/20... Step: 2750... Loss: 1.1447... Val Loss: 1.2580\n",
            "Epoch: 20/20... Step: 2760... Loss: 1.1388... Val Loss: 1.2605\n",
            "Epoch: 20/20... Step: 2770... Loss: 1.1765... Val Loss: 1.2558\n",
            "Epoch: 20/20... Step: 2780... Loss: 1.2022... Val Loss: 1.2513\n"
          ],
          "name": "stdout"
        }
      ]
    },
    {
      "metadata": {
        "id": "77CunnL8lEJc",
        "colab_type": "text"
      },
      "cell_type": "markdown",
      "source": [
        "## Getting the best model\n",
        "\n",
        "To set your hyperparameters to get the best performance, you'll want to watch the training and validation losses. If your training loss is much lower than the validation loss, you're overfitting. Increase regularization (more dropout) or use a smaller network. If the training and validation losses are close, you're underfitting so you can increase the size of the network."
      ]
    },
    {
      "metadata": {
        "id": "YGNcYYUWlEJd",
        "colab_type": "text"
      },
      "cell_type": "markdown",
      "source": [
        "## Hyperparameters\n",
        "\n",
        "Here are the hyperparameters for the network.\n",
        "\n",
        "In defining the model:\n",
        "* `n_hidden` - The number of units in the hidden layers.\n",
        "* `n_layers` - Number of hidden LSTM layers to use.\n",
        "\n",
        "We assume that dropout probability and learning rate will be kept at the default, in this example.\n",
        "\n",
        "And in training:\n",
        "* `batch_size` - Number of sequences running through the network in one pass.\n",
        "* `seq_length` - Number of characters in the sequence the network is trained on. Larger is better typically, the network will learn more long range dependencies. But it takes longer to train. 100 is typically a good number here.\n",
        "* `lr` - Learning rate for training\n",
        "\n",
        "Here's some good advice from Andrej Karpathy on training the network. I'm going to copy it in here for your benefit, but also link to [where it originally came from](https://github.com/karpathy/char-rnn#tips-and-tricks).\n",
        "\n",
        "> ## Tips and Tricks\n",
        "\n",
        ">### Monitoring Validation Loss vs. Training Loss\n",
        ">If you're somewhat new to Machine Learning or Neural Networks it can take a bit of expertise to get good models. The most important quantity to keep track of is the difference between your training loss (printed during training) and the validation loss (printed once in a while when the RNN is run on the validation data (by default every 1000 iterations)). In particular:\n",
        "\n",
        "> - If your training loss is much lower than validation loss then this means the network might be **overfitting**. Solutions to this are to decrease your network size, or to increase dropout. For example you could try dropout of 0.5 and so on.\n",
        "> - If your training/validation loss are about equal then your model is **underfitting**. Increase the size of your model (either number of layers or the raw number of neurons per layer)\n",
        "\n",
        "> ### Approximate number of parameters\n",
        "\n",
        "> The two most important parameters that control the model are `n_hidden` and `n_layers`. I would advise that you always use `n_layers` of either 2/3. The `n_hidden` can be adjusted based on how much data you have. The two important quantities to keep track of here are:\n",
        "\n",
        "> - The number of parameters in your model. This is printed when you start training.\n",
        "> - The size of your dataset. 1MB file is approximately 1 million characters.\n",
        "\n",
        ">These two should be about the same order of magnitude. It's a little tricky to tell. Here are some examples:\n",
        "\n",
        "> - I have a 100MB dataset and I'm using the default parameter settings (which currently print 150K parameters). My data size is significantly larger (100 mil >> 0.15 mil), so I expect to heavily underfit. I am thinking I can comfortably afford to make `n_hidden` larger.\n",
        "> - I have a 10MB dataset and running a 10 million parameter model. I'm slightly nervous and I'm carefully monitoring my validation loss. If it's larger than my training loss then I may want to try to increase dropout a bit and see if that helps the validation loss.\n",
        "\n",
        "> ### Best models strategy\n",
        "\n",
        ">The winning strategy to obtaining very good models (if you have the compute time) is to always err on making the network larger (as large as you're willing to wait for it to compute) and then try different dropout values (between 0,1). Whatever model has the best validation performance (the loss, written in the checkpoint filename, low is good) is the one you should use in the end.\n",
        "\n",
        ">It is very common in deep learning to run many different models with many different hyperparameter settings, and in the end take whatever checkpoint gave the best validation performance.\n",
        "\n",
        ">By the way, the size of your training and validation splits are also parameters. Make sure you have a decent amount of data in your validation set or otherwise the validation performance will be noisy and not very informative."
      ]
    },
    {
      "metadata": {
        "id": "2RIOjhZ4lEJe",
        "colab_type": "text"
      },
      "cell_type": "markdown",
      "source": [
        "## Checkpoint\n",
        "\n",
        "After training, we'll save the model so we can load it again later if we need too. Here I'm saving the parameters needed to create the same architecture, the hidden layer hyperparameters and the text characters."
      ]
    },
    {
      "metadata": {
        "id": "P1ldxdo5lEJf",
        "colab_type": "code",
        "colab": {}
      },
      "cell_type": "code",
      "source": [
        "# change the name, for saving multiple files\n",
        "model_name = 'rnn_x_epoch.net'\n",
        "\n",
        "checkpoint = {'n_hidden': net.n_hidden,\n",
        "              'n_layers': net.n_layers,\n",
        "              'state_dict': net.state_dict(),\n",
        "              'tokens': net.chars}\n",
        "\n",
        "with open(model_name, 'wb') as f:\n",
        "    torch.save(checkpoint, f)"
      ],
      "execution_count": 0,
      "outputs": []
    },
    {
      "metadata": {
        "id": "M_Syo-nQlEJj",
        "colab_type": "text"
      },
      "cell_type": "markdown",
      "source": [
        "---\n",
        "## Making Predictions\n",
        "\n",
        "Now that the model is trained, we'll want to sample from it and make predictions about next characters! To sample, we pass in a character and have the network predict the next character. Then we take that character, pass it back in, and get another predicted character. Just keep doing this and you'll generate a bunch of text!\n",
        "\n",
        "### A note on the `predict`  function\n",
        "\n",
        "The output of our RNN is from a fully-connected layer and it outputs a **distribution of next-character scores**.\n",
        "\n",
        "> To actually get the next character, we apply a softmax function, which gives us a *probability* distribution that we can then sample to predict the next character.\n",
        "\n",
        "### Top K sampling\n",
        "\n",
        "Our predictions come from a categorical probability distribution over all the possible characters. We can make the sample text and make it more reasonable to handle (with less variables) by only considering some $K$ most probable characters. This will prevent the network from giving us completely absurd characters while allowing it to introduce some noise and randomness into the sampled text. Read more about [topk, here](https://pytorch.org/docs/stable/torch.html#torch.topk).\n"
      ]
    },
    {
      "metadata": {
        "id": "D_b5O2-JlEJk",
        "colab_type": "code",
        "colab": {}
      },
      "cell_type": "code",
      "source": [
        "def predict(net, char, h=None, top_k=None):\n",
        "        ''' Given a character, predict the next character.\n",
        "            Returns the predicted character and the hidden state.\n",
        "        '''\n",
        "        \n",
        "        # tensor inputs\n",
        "        x = np.array([[net.char2int[char]]])\n",
        "        x = one_hot_encode(x, len(net.chars))\n",
        "        inputs = torch.from_numpy(x)\n",
        "        \n",
        "        if(train_on_gpu):\n",
        "            inputs = inputs.cuda()\n",
        "        \n",
        "        # detach hidden state from history\n",
        "        h = tuple([each.data for each in h])\n",
        "        # get the output of the model\n",
        "        out, h = net(inputs, h)\n",
        "\n",
        "        # get the character probabilities\n",
        "        p = F.softmax(out, dim=1).data\n",
        "        if(train_on_gpu):\n",
        "            p = p.cpu() # move to cpu\n",
        "        \n",
        "        # get top characters\n",
        "        if top_k is None:\n",
        "            top_ch = np.arange(len(net.chars))\n",
        "        else:\n",
        "            p, top_ch = p.topk(top_k)\n",
        "            top_ch = top_ch.numpy().squeeze()\n",
        "        \n",
        "        # select the likely next character with some element of randomness\n",
        "        p = p.numpy().squeeze()\n",
        "        char = np.random.choice(top_ch, p=p/p.sum())\n",
        "        \n",
        "        # return the encoded value of the predicted char and the hidden state\n",
        "        return net.int2char[char], h"
      ],
      "execution_count": 0,
      "outputs": []
    },
    {
      "metadata": {
        "id": "mmJM3DAnlEJn",
        "colab_type": "text"
      },
      "cell_type": "markdown",
      "source": [
        "### Priming and generating text \n",
        "\n",
        "Typically you'll want to prime the network so you can build up a hidden state. Otherwise the network will start out generating characters at random. In general the first bunch of characters will be a little rough since it hasn't built up a long history of characters to predict from."
      ]
    },
    {
      "metadata": {
        "id": "OgXtjuVwlEJp",
        "colab_type": "code",
        "colab": {}
      },
      "cell_type": "code",
      "source": [
        "def sample(net, size, prime='The', top_k=None):\n",
        "        \n",
        "    if(train_on_gpu):\n",
        "        net.cuda()\n",
        "    else:\n",
        "        net.cpu()\n",
        "    \n",
        "    net.eval() # eval mode\n",
        "    \n",
        "    # First off, run through the prime characters\n",
        "    chars = [ch for ch in prime]\n",
        "    h = net.init_hidden(1)\n",
        "    for ch in prime:\n",
        "        char, h = predict(net, ch, h, top_k=top_k)\n",
        "\n",
        "    chars.append(char)\n",
        "    \n",
        "    # Now pass in the previous character and get a new one\n",
        "    for ii in range(size):\n",
        "        char, h = predict(net, chars[-1], h, top_k=top_k)\n",
        "        chars.append(char)\n",
        "\n",
        "    return ''.join(chars)"
      ],
      "execution_count": 0,
      "outputs": []
    },
    {
      "metadata": {
        "id": "vbSn5l4tlEJt",
        "colab_type": "code",
        "colab": {
          "base_uri": "https://localhost:8080/",
          "height": 341
        },
        "outputId": "8bcae027-bbf2-4fef-b076-8988b28e6e58"
      },
      "cell_type": "code",
      "source": [
        "print(sample(net, 1000, prime='Anna', top_k=5))"
      ],
      "execution_count": 36,
      "outputs": [
        {
          "output_type": "stream",
          "text": [
            "Anna, and the lands\n",
            "of children. And these words that it was the same time in such a friend\n",
            "there was something subject, he waited for him to think of them, and\n",
            "that when they were already, and had been this and sense of sinking\n",
            "on her to her face in his station. The principles was not more than ever\n",
            "that the point of all soul, though his brother Nord and whan\n",
            "he had not considered had happened of the fact that her\n",
            "house telled it on, and terring the pashing and at the counting off the colrectance\n",
            "of his soul, and he was not mushroom thac he had been seriously at\n",
            "horses, as it wanted to think it work. The place was silly\n",
            "felt to both first that was not to go into her eyes. She had no mile,\n",
            "happing too hand, and with still course of her firm, and with his\n",
            "father, so away from her fingers. She was not a few second children, but the\n",
            "face was still married in him as something to his words in the steps of the\n",
            "feeling of the peasant when he did not know how to help some\n",
            "place in that.\n",
            "\n",
            "This days \n"
          ],
          "name": "stdout"
        }
      ]
    },
    {
      "metadata": {
        "id": "VIppIsgplEJx",
        "colab_type": "text"
      },
      "cell_type": "markdown",
      "source": [
        "## Loading a checkpoint"
      ]
    },
    {
      "metadata": {
        "id": "ygAePZ4HlEJy",
        "colab_type": "code",
        "colab": {}
      },
      "cell_type": "code",
      "source": [
        "# Here we have loaded in a model that trained over 20 epochs `rnn_20_epoch.net`\n",
        "with open('rnn_x_epoch.net', 'rb') as f:\n",
        "    checkpoint = torch.load(f)\n",
        "    \n",
        "loaded = CharRNN(checkpoint['tokens'], n_hidden=checkpoint['n_hidden'], n_layers=checkpoint['n_layers'])\n",
        "loaded.load_state_dict(checkpoint['state_dict'])"
      ],
      "execution_count": 0,
      "outputs": []
    },
    {
      "metadata": {
        "id": "kzVlnm8tlEJ1",
        "colab_type": "code",
        "colab": {}
      },
      "cell_type": "code",
      "source": [
        "# Sample using a loaded model\n",
        "print(sample(loaded, 2000, top_k=5, prime=\"And Levin said\"))"
      ],
      "execution_count": 0,
      "outputs": []
    },
    {
      "metadata": {
        "id": "yg7_hS8FlEJ5",
        "colab_type": "code",
        "colab": {}
      },
      "cell_type": "code",
      "source": [
        ""
      ],
      "execution_count": 0,
      "outputs": []
    }
  ]
}